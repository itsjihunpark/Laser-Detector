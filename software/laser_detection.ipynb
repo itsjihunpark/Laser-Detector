{
 "cells": [
  {
   "cell_type": "code",
   "execution_count": 1,
   "id": "e09fd6af",
   "metadata": {},
   "outputs": [],
   "source": [
    "import cv2\n",
    "import glob\n",
    "import numpy as np\n",
    "import math"
   ]
  },
  {
   "cell_type": "code",
   "execution_count": 2,
   "id": "450dbdfe",
   "metadata": {},
   "outputs": [],
   "source": [
    "def find_circles(thresh_frame):\n",
    "    contours, hierarchy = cv2.findContours(thresh_frame, cv2.RETR_TREE, cv2.CHAIN_APPROX_SIMPLE)#\n",
    "    contours_cirles = []\n",
    "    for con in contours:\n",
    "        perimeter = cv2.arcLength(con, True)\n",
    "        area = cv2.contourArea(con)\n",
    "        if perimeter == 0 or area>500:\n",
    "            return []\n",
    "        circularity = 4*math.pi*(area/(perimeter*perimeter))\n",
    "        \n",
    "        if 0.8 < circularity < 1.2:\n",
    "            contours_cirles.append(con)\n",
    "    return contours_cirles"
   ]
  },
  {
   "cell_type": "markdown",
   "id": "6b4f1c04",
   "metadata": {},
   "source": [
    "# Using Red color channels from RGB (issue when there is lots of white spots where intensity for all RGB values are equally high)"
   ]
  },
  {
   "cell_type": "code",
   "execution_count": 3,
   "id": "95b1f764",
   "metadata": {},
   "outputs": [],
   "source": [
    "cap = cv2.VideoCapture(r\"../data/stable_background.mp4\")\n",
    "while True:\n",
    "    ret, stable_frame = cap.read()           \n",
    "    if not ret:\n",
    "        break\n",
    "    stable_frame_blurred = cv2.GaussianBlur(stable_frame,(11,11),0)\n",
    "    img_r = stable_frame_blurred[:,:,0]\n",
    "    threshold = int(img_r.max()*0.95)\n",
    "    ret,thresh_frame = cv2.threshold(img_r,threshold,255,cv2.THRESH_BINARY)\n",
    "    circles = find_circles(thresh_frame)\n",
    "    for c in circles:\n",
    "        M = cv2.moments(c)\n",
    "        if M['m00'] != 0:\n",
    "            cx = int(M['m10']/M['m00'])\n",
    "            cy = int(M['m01']/M['m00'])\n",
    "            cv2.drawMarker(stable_frame, (cx, cy), color=[0, 255, 0], thickness=2, markerType= cv2.MARKER_TILTED_CROSS, line_type=cv2.LINE_AA,markerSize=7)\n",
    "\n",
    "\n",
    "\n",
    "    #cv2.drawContours(stable_frame, circles, 0, (0,255,0), 3)\n",
    "    cv2.imshow(\"frame\", stable_frame)\n",
    "    cv2.imshow(\"filtered\", thresh_frame)\n",
    "    if cv2.waitKey(10) == ord('q'):\n",
    "        cap.release()\n",
    "        cv2.destroyAllWindows()\n",
    "        print (\"Exiting program\")\n",
    "cv2.destroyAllWindows()"
   ]
  },
  {
   "cell_type": "markdown",
   "id": "4fbd7b4f",
   "metadata": {},
   "source": [
    "# Using LAB color spaces (A channel)"
   ]
  },
  {
   "cell_type": "code",
   "execution_count": 4,
   "id": "16996aa2",
   "metadata": {},
   "outputs": [],
   "source": [
    "cap = cv2.VideoCapture(r\"../data/laser-treatment.mp4\")\n",
    "while True:\n",
    "    ret, stable_frame = cap.read()           \n",
    "    if not ret:\n",
    "        break\n",
    "    lab = cv2.cvtColor(stable_frame, cv2.COLOR_RGB2LAB)\n",
    "    L,A,B=cv2.split(lab)\n",
    "    stable_frame_blurred = cv2.GaussianBlur(A,(15,15),0)\n",
    "    threshold = int(stable_frame_blurred.max()*0.95)\n",
    "    #print(f\"thresh: {threshold}\")\n",
    "    ret,thresh_frame = cv2.threshold(stable_frame_blurred,threshold,255,cv2.THRESH_BINARY)\n",
    "    circles = find_circles(thresh_frame)\n",
    "    for c in circles:\n",
    "        M = cv2.moments(c)\n",
    "        if M['m00'] != 0:\n",
    "            cx = int(M['m10']/M['m00'])\n",
    "            cy = int(M['m01']/M['m00'])\n",
    "            cv2.drawMarker(stable_frame, (cx, cy), color=[0, 255, 0], thickness=2, markerType= cv2.MARKER_TILTED_CROSS, line_type=cv2.LINE_AA,markerSize=7)\n",
    "\n",
    "    #cv2.drawContours(stable_frame, circles, 0, (0,255,0), 3)\n",
    "    cv2.imshow(\"stable_frame\", stable_frame)\n",
    "    cv2.imshow(\"thresh_frame\", thresh_frame)\n",
    "    cv2.imshow(\"A\", A)\n",
    "    if cv2.waitKey(10) == ord('q'):\n",
    "        cap.release()\n",
    "        cv2.destroyAllWindows()\n",
    "        print (\"Exiting program\")\n",
    "cv2.destroyAllWindows()"
   ]
  },
  {
   "cell_type": "markdown",
   "id": "af76fe9e",
   "metadata": {},
   "source": [
    "# Using HSV to filter red"
   ]
  },
  {
   "cell_type": "code",
   "execution_count": 5,
   "id": "2df97daf",
   "metadata": {},
   "outputs": [
    {
     "name": "stdout",
     "output_type": "stream",
     "text": [
      "Exiting program\n"
     ]
    }
   ],
   "source": [
    "cap = cv2.VideoCapture(r\"../data/unstable_background.mp4\")\n",
    "while True:\n",
    "    ret, frame = cap.read()           \n",
    "    if not ret:\n",
    "        break\n",
    "    \n",
    "    \n",
    "    hsv_image = cv2.cvtColor(frame, cv2.COLOR_BGR2HSV)\n",
    "    frame_blurred = cv2.GaussianBlur(frame,(5,5),0)\n",
    "\n",
    "    # Define lower and upper HSV boundaries for the color blue\n",
    "    lower_red_1 = np.array([0, 50, 150])\n",
    "    upper_red_1 = np.array([10, 255, 255])\n",
    "\n",
    "\n",
    "    # Create a mask with cv2.inRange to detect red colors\n",
    "    mask = cv2.inRange(frame_blurred, lower_red_1, upper_red_1)\n",
    "\n",
    "    \n",
    "    # Use bitwise AND to extract the red color from the original image\n",
    "\n",
    "    circles = find_circles(mask)\n",
    "    cv2.drawContours(frame, circles, 0, (0,255,0), 3)\n",
    "    \n",
    "    cv2.imshow(\"mask\", mask)\n",
    "    cv2.imshow(\"original\", frame)\n",
    "    if cv2.waitKey(10) == ord('q'):\n",
    "        cap.release()\n",
    "        cv2.destroyAllWindows()\n",
    "        print (\"Exiting program\")\n",
    "cv2.destroyAllWindows()"
   ]
  },
  {
   "cell_type": "code",
   "execution_count": 6,
   "id": "33aeb357",
   "metadata": {},
   "outputs": [],
   "source": [
    "cv2.destroyAllWindows()"
   ]
  },
  {
   "cell_type": "markdown",
   "id": "fe46985b",
   "metadata": {},
   "source": [
    "# LAB color space seems to have worked best for red colored lasers"
   ]
  }
 ],
 "metadata": {
  "kernelspec": {
   "display_name": "machinevision",
   "language": "python",
   "name": "python3"
  },
  "language_info": {
   "codemirror_mode": {
    "name": "ipython",
    "version": 3
   },
   "file_extension": ".py",
   "mimetype": "text/x-python",
   "name": "python",
   "nbconvert_exporter": "python",
   "pygments_lexer": "ipython3",
   "version": "3.10.16"
  }
 },
 "nbformat": 4,
 "nbformat_minor": 5
}
